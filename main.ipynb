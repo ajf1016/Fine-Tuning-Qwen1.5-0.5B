# Install necessary libraries
!pip install torch torchvision torchaudio
!pip install --upgrade fsspec gcsfs
!pip install transformers datasets accelerate peft bitsandbytes

# Import required modules
import torch
from transformers import AutoModelForCausalLM, AutoTokenizer, TrainingArguments, Trainer
from datasets import load_dataset, DatasetDict
from peft import LoraConfig, get_peft_model

#Load Model & Tokenizer
model_id = "Qwen/Qwen1.5-0.5B"

tokenizer = AutoTokenizer.from_pretrained(model_id, trust_remote_code=True)

# Use 4-bit Quantization
from transformers import BitsAndBytesConfig
bnb_config = BitsAndBytesConfig(
    load_in_4bit=True,  
    bnb_4bit_quant_type="nf4",
    bnb_4bit_compute_dtype=torch.float16,
    bnb_4bit_use_double_quant=True
)

model = AutoModelForCausalLM.from_pretrained(
    model_id,
    quantization_config=bnb_config,  
    device_map="auto",  
    trust_remote_code=True
)

print("Model successfully loaded on device:", model.hf_device_map)

#Load & Process Dataset
dataset = load_dataset("json", data_files="/content/legal_finetune_data.json") 

# Ensure dataset columns match expected format
def format_data(example):
    return {"input_ids": tokenizer(example["prompt"], truncation=True, padding="max_length", max_length=512)["input_ids"],
            "labels": tokenizer(example["completion"], truncation=True, padding="max_length", max_length=512)["input_ids"]}

# Apply formatting & tokenization
dataset = dataset.map(format_data, batched=True)

# Split dataset into training & validation sets
split_datasets = dataset["train"].train_test_split(test_size=0.1)
split_datasets = DatasetDict({
    "train": split_datasets["train"],
    "test": split_datasets["test"]
})

print("Dataset ready:", split_datasets)

def tokenize_function(examples):
    model_inputs = tokenizer(
        examples["prompt"], 
        truncation=True, 
        padding="max_length", 
        max_length=512, 
        return_tensors="pt"
    )

    # Set labels as tokenized completion
    with tokenizer.as_target_tokenizer():
        labels = tokenizer(
            examples["completion"], 
            truncation=True, 
            padding="max_length", 
            max_length=512, 
            return_tensors="pt"
        )

    model_inputs["labels"] = labels["input_ids"]
    return model_inputs


tokenized_datasets = split_datasets.map(tokenize_function, batched=True, remove_columns=["prompt", "completion"])

# Use LoRA for Efficient Fine-Tuning
lora_config = LoraConfig(
    r=16, 
    lora_alpha=32, 
    target_modules=["q_proj", "v_proj"],  
    lora_dropout=0.1,
    bias="none",
    task_type="CAUSAL_LM"
)

model = get_peft_model(model, lora_config)
model.print_trainable_parameters()  

#Prevent Tensor Shape Issues
if tokenizer.pad_token is None:
    tokenizer.pad_token = tokenizer.eos_token
    model.resize_token_embeddings(len(tokenizer))

# Set Up Training Arguments
training_args = TrainingArguments(
    output_dir="./qwen_fine_tuned",
    eval_strategy="epoch",
    save_strategy="epoch",
    save_total_limit=2,
    per_device_train_batch_size=1,
    per_device_eval_batch_size=1,
    gradient_accumulation_steps=8,
    num_train_epochs=3,
    fp16=True,
    gradient_checkpointing=True,
    logging_dir="./logs",
    logging_steps=10,
    report_to="none",
    remove_unused_columns=False 
)

# Train the Model
trainer = Trainer(
    model=model,
    args=training_args,
    train_dataset=tokenized_datasets["train"],
    eval_dataset=tokenized_datasets["test"],
    data_collator=None 
)


# Save & Download the Fine-Tuned Model
model.save_pretrained("./qwen_fine_tuned")
tokenizer.save_pretrained("./qwen_fine_tuned")

from google.colab import files
!zip -r qwen_fine_tuned.zip ./qwen_fine_tuned
files.download("qwen_fine_tuned.zip")

!pip install transformers torch accelerate


